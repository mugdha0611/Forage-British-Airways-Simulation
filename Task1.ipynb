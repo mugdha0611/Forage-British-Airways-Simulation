{
 "cells": [
  {
   "cell_type": "markdown",
   "metadata": {},
   "source": [
    "# Task 1\n",
    "\n",
    "---\n",
    "\n",
    "## Web scraping and analysis\n",
    "\n",
    "This Jupyter notebook includes some code to get you started with web scraping. We will use a package called `BeautifulSoup` to collect the data from the web. Once you've collected your data and saved it into a local `.csv` file you should start with your analysis.\n",
    "\n",
    "### Scraping data from Skytrax\n",
    "\n",
    "If you visit [https://www.airlinequality.com] you can see that there is a lot of data there. For this task, we are only interested in reviews related to British Airways and the Airline itself.\n",
    "\n",
    "If you navigate to this link: [https://www.airlinequality.com/airline-reviews/british-airways] you will see this data. Now, we can use `Python` and `BeautifulSoup` to collect all the links to the reviews and then to collect the text data on each of the individual review links."
   ]
  },
  {
   "cell_type": "code",
   "execution_count": 1,
   "metadata": {},
   "outputs": [
    {
     "name": "stderr",
     "output_type": "stream",
     "text": [
      "c:\\Users\\muggs\\anaconda3\\lib\\site-packages\\numpy\\_distributor_init.py:30: UserWarning: loaded more than 1 DLL from .libs:\n",
      "c:\\Users\\muggs\\anaconda3\\lib\\site-packages\\numpy\\.libs\\libopenblas.EL2C6PLE4ZYW3ECEVIV3OXXGRN2NRFM2.gfortran-win_amd64.dll\n",
      "c:\\Users\\muggs\\anaconda3\\lib\\site-packages\\numpy\\.libs\\libopenblas64__v0.3.21-gcc_10_3_0.dll\n",
      "  warnings.warn(\"loaded more than 1 DLL from .libs:\"\n"
     ]
    }
   ],
   "source": [
    "import requests\n",
    "from bs4 import BeautifulSoup\n",
    "import pandas as pd"
   ]
  },
  {
   "cell_type": "code",
   "execution_count": 2,
   "metadata": {},
   "outputs": [
    {
     "name": "stdout",
     "output_type": "stream",
     "text": [
      "Scraping page 1\n",
      "   ---> 100 total reviews\n",
      "Scraping page 2\n",
      "   ---> 200 total reviews\n",
      "Scraping page 3\n",
      "   ---> 300 total reviews\n",
      "Scraping page 4\n",
      "   ---> 400 total reviews\n",
      "Scraping page 5\n",
      "   ---> 500 total reviews\n",
      "Scraping page 6\n",
      "   ---> 600 total reviews\n",
      "Scraping page 7\n",
      "   ---> 700 total reviews\n",
      "Scraping page 8\n",
      "   ---> 800 total reviews\n",
      "Scraping page 9\n",
      "   ---> 900 total reviews\n",
      "Scraping page 10\n",
      "   ---> 1000 total reviews\n"
     ]
    }
   ],
   "source": [
    "base_url = \"https://www.airlinequality.com/airline-reviews/british-airways\"\n",
    "pages = 10\n",
    "page_size = 100\n",
    "\n",
    "reviews = []\n",
    "\n",
    "# for i in range(1, pages + 1):\n",
    "for i in range(1, pages + 1):\n",
    "\n",
    "    print(f\"Scraping page {i}\")\n",
    "\n",
    "    # Create URL to collect links from paginated data\n",
    "    url = f\"{base_url}/page/{i}/?sortby=post_date%3ADesc&pagesize={page_size}\"\n",
    "\n",
    "    # Collect HTML data from this page\n",
    "    response = requests.get(url)\n",
    "\n",
    "    # Parse content\n",
    "    content = response.content\n",
    "    parsed_content = BeautifulSoup(content, 'html.parser')\n",
    "    for para in parsed_content.find_all(\"div\", {\"class\": \"text_content\"}):\n",
    "        reviews.append(para.get_text())\n",
    "    \n",
    "    print(f\"   ---> {len(reviews)} total reviews\")"
   ]
  },
  {
   "cell_type": "code",
   "execution_count": 3,
   "metadata": {},
   "outputs": [
    {
     "data": {
      "text/html": [
       "<div>\n",
       "<style scoped>\n",
       "    .dataframe tbody tr th:only-of-type {\n",
       "        vertical-align: middle;\n",
       "    }\n",
       "\n",
       "    .dataframe tbody tr th {\n",
       "        vertical-align: top;\n",
       "    }\n",
       "\n",
       "    .dataframe thead th {\n",
       "        text-align: right;\n",
       "    }\n",
       "</style>\n",
       "<table border=\"1\" class=\"dataframe\">\n",
       "  <thead>\n",
       "    <tr style=\"text-align: right;\">\n",
       "      <th></th>\n",
       "      <th>reviews</th>\n",
       "    </tr>\n",
       "  </thead>\n",
       "  <tbody>\n",
       "    <tr>\n",
       "      <th>0</th>\n",
       "      <td>✅ Trip Verified | Communication and customer s...</td>\n",
       "    </tr>\n",
       "    <tr>\n",
       "      <th>1</th>\n",
       "      <td>✅ Trip Verified |  That was supposed to be my ...</td>\n",
       "    </tr>\n",
       "    <tr>\n",
       "      <th>2</th>\n",
       "      <td>✅ Trip Verified |  Have no fear when your BA f...</td>\n",
       "    </tr>\n",
       "    <tr>\n",
       "      <th>3</th>\n",
       "      <td>Not Verified |  We have flown BA five times fr...</td>\n",
       "    </tr>\n",
       "    <tr>\n",
       "      <th>4</th>\n",
       "      <td>✅ Trip Verified |  London Heathrow to Istanbul...</td>\n",
       "    </tr>\n",
       "  </tbody>\n",
       "</table>\n",
       "</div>"
      ],
      "text/plain": [
       "                                             reviews\n",
       "0  ✅ Trip Verified | Communication and customer s...\n",
       "1  ✅ Trip Verified |  That was supposed to be my ...\n",
       "2  ✅ Trip Verified |  Have no fear when your BA f...\n",
       "3  Not Verified |  We have flown BA five times fr...\n",
       "4  ✅ Trip Verified |  London Heathrow to Istanbul..."
      ]
     },
     "execution_count": 3,
     "metadata": {},
     "output_type": "execute_result"
    }
   ],
   "source": [
    "df = pd.DataFrame()\n",
    "df[\"reviews\"] = reviews\n",
    "df.head()"
   ]
  },
  {
   "cell_type": "code",
   "execution_count": 5,
   "metadata": {},
   "outputs": [],
   "source": [
    "import os\n",
    "\n",
    "# Create the 'data' directory if it doesn't exist\n",
    "if not os.path.exists(\"data\"):\n",
    "    os.makedirs(\"data\")\n"
   ]
  },
  {
   "cell_type": "code",
   "execution_count": 6,
   "metadata": {},
   "outputs": [],
   "source": [
    "df.to_csv(\"data/BA_reviews.csv\")"
   ]
  },
  {
   "cell_type": "markdown",
   "metadata": {},
   "source": [
    "Congratulations! Now you have your dataset for this task! The loops above collected 1000 reviews by iterating through the paginated pages on the website. However, if you want to collect more data, try increasing the number of pages!\n",
    "\n",
    " The next thing that you should do is clean this data to remove any unnecessary text from each of the rows. For example, \"✅ Trip Verified\" can be removed from each row if it exists, as it's not relevant to what we want to investigate."
   ]
  },
  {
   "cell_type": "code",
   "execution_count": 7,
   "metadata": {},
   "outputs": [
    {
     "data": {
      "text/html": [
       "<div>\n",
       "<style scoped>\n",
       "    .dataframe tbody tr th:only-of-type {\n",
       "        vertical-align: middle;\n",
       "    }\n",
       "\n",
       "    .dataframe tbody tr th {\n",
       "        vertical-align: top;\n",
       "    }\n",
       "\n",
       "    .dataframe thead th {\n",
       "        text-align: right;\n",
       "    }\n",
       "</style>\n",
       "<table border=\"1\" class=\"dataframe\">\n",
       "  <thead>\n",
       "    <tr style=\"text-align: right;\">\n",
       "      <th></th>\n",
       "      <th>reviews</th>\n",
       "    </tr>\n",
       "  </thead>\n",
       "  <tbody>\n",
       "    <tr>\n",
       "      <th>0</th>\n",
       "      <td>✅ Trip Verified | Communication and customer s...</td>\n",
       "    </tr>\n",
       "    <tr>\n",
       "      <th>1</th>\n",
       "      <td>✅ Trip Verified |  That was supposed to be my ...</td>\n",
       "    </tr>\n",
       "    <tr>\n",
       "      <th>2</th>\n",
       "      <td>✅ Trip Verified |  Have no fear when your BA f...</td>\n",
       "    </tr>\n",
       "    <tr>\n",
       "      <th>3</th>\n",
       "      <td>Not Verified |  We have flown BA five times fr...</td>\n",
       "    </tr>\n",
       "    <tr>\n",
       "      <th>4</th>\n",
       "      <td>✅ Trip Verified |  London Heathrow to Istanbul...</td>\n",
       "    </tr>\n",
       "    <tr>\n",
       "      <th>...</th>\n",
       "      <td>...</td>\n",
       "    </tr>\n",
       "    <tr>\n",
       "      <th>995</th>\n",
       "      <td>✅ Trip Verified |  Tampa to Gatwick. I paid to...</td>\n",
       "    </tr>\n",
       "    <tr>\n",
       "      <th>996</th>\n",
       "      <td>✅ Trip Verified | London Heathrow to Madrid. I...</td>\n",
       "    </tr>\n",
       "    <tr>\n",
       "      <th>997</th>\n",
       "      <td>✅ Trip Verified |  Gatwick to St Lucia return....</td>\n",
       "    </tr>\n",
       "    <tr>\n",
       "      <th>998</th>\n",
       "      <td>✅ Trip Verified |  It's been many years since ...</td>\n",
       "    </tr>\n",
       "    <tr>\n",
       "      <th>999</th>\n",
       "      <td>✅ Trip Verified | \\r\\nLondon Heathrow / Pisa r...</td>\n",
       "    </tr>\n",
       "  </tbody>\n",
       "</table>\n",
       "<p>1000 rows × 1 columns</p>\n",
       "</div>"
      ],
      "text/plain": [
       "                                               reviews\n",
       "0    ✅ Trip Verified | Communication and customer s...\n",
       "1    ✅ Trip Verified |  That was supposed to be my ...\n",
       "2    ✅ Trip Verified |  Have no fear when your BA f...\n",
       "3    Not Verified |  We have flown BA five times fr...\n",
       "4    ✅ Trip Verified |  London Heathrow to Istanbul...\n",
       "..                                                 ...\n",
       "995  ✅ Trip Verified |  Tampa to Gatwick. I paid to...\n",
       "996  ✅ Trip Verified | London Heathrow to Madrid. I...\n",
       "997  ✅ Trip Verified |  Gatwick to St Lucia return....\n",
       "998  ✅ Trip Verified |  It's been many years since ...\n",
       "999  ✅ Trip Verified | \\r\\nLondon Heathrow / Pisa r...\n",
       "\n",
       "[1000 rows x 1 columns]"
      ]
     },
     "execution_count": 7,
     "metadata": {},
     "output_type": "execute_result"
    }
   ],
   "source": [
    "df"
   ]
  },
  {
   "cell_type": "markdown",
   "metadata": {},
   "source": [
    "removing the '|' "
   ]
  },
  {
   "cell_type": "code",
   "execution_count": 10,
   "metadata": {},
   "outputs": [],
   "source": [
    "df.reviews = df.reviews.str.split('|', expand=True)[1]"
   ]
  },
  {
   "cell_type": "code",
   "execution_count": 11,
   "metadata": {},
   "outputs": [
    {
     "data": {
      "text/html": [
       "<div>\n",
       "<style scoped>\n",
       "    .dataframe tbody tr th:only-of-type {\n",
       "        vertical-align: middle;\n",
       "    }\n",
       "\n",
       "    .dataframe tbody tr th {\n",
       "        vertical-align: top;\n",
       "    }\n",
       "\n",
       "    .dataframe thead th {\n",
       "        text-align: right;\n",
       "    }\n",
       "</style>\n",
       "<table border=\"1\" class=\"dataframe\">\n",
       "  <thead>\n",
       "    <tr style=\"text-align: right;\">\n",
       "      <th></th>\n",
       "      <th>reviews</th>\n",
       "    </tr>\n",
       "  </thead>\n",
       "  <tbody>\n",
       "    <tr>\n",
       "      <th>0</th>\n",
       "      <td>Communication and customer service non existe...</td>\n",
       "    </tr>\n",
       "    <tr>\n",
       "      <th>1</th>\n",
       "      <td>That was supposed to be my flight but it was...</td>\n",
       "    </tr>\n",
       "    <tr>\n",
       "      <th>2</th>\n",
       "      <td>Have no fear when your BA flight is operated...</td>\n",
       "    </tr>\n",
       "    <tr>\n",
       "      <th>3</th>\n",
       "      <td>We have flown BA five times from western USA...</td>\n",
       "    </tr>\n",
       "    <tr>\n",
       "      <th>4</th>\n",
       "      <td>London Heathrow to Istanbul at the start of ...</td>\n",
       "    </tr>\n",
       "    <tr>\n",
       "      <th>...</th>\n",
       "      <td>...</td>\n",
       "    </tr>\n",
       "    <tr>\n",
       "      <th>995</th>\n",
       "      <td>Tampa to Gatwick. I paid to have my seats bu...</td>\n",
       "    </tr>\n",
       "    <tr>\n",
       "      <th>996</th>\n",
       "      <td>London Heathrow to Madrid. I travel from LHR ...</td>\n",
       "    </tr>\n",
       "    <tr>\n",
       "      <th>997</th>\n",
       "      <td>Gatwick to St Lucia return. Recently returne...</td>\n",
       "    </tr>\n",
       "    <tr>\n",
       "      <th>998</th>\n",
       "      <td>It's been many years since I flew long haul ...</td>\n",
       "    </tr>\n",
       "    <tr>\n",
       "      <th>999</th>\n",
       "      <td>\\r\\nLondon Heathrow / Pisa return. My wife an...</td>\n",
       "    </tr>\n",
       "  </tbody>\n",
       "</table>\n",
       "<p>1000 rows × 1 columns</p>\n",
       "</div>"
      ],
      "text/plain": [
       "                                               reviews\n",
       "0     Communication and customer service non existe...\n",
       "1      That was supposed to be my flight but it was...\n",
       "2      Have no fear when your BA flight is operated...\n",
       "3      We have flown BA five times from western USA...\n",
       "4      London Heathrow to Istanbul at the start of ...\n",
       "..                                                 ...\n",
       "995    Tampa to Gatwick. I paid to have my seats bu...\n",
       "996   London Heathrow to Madrid. I travel from LHR ...\n",
       "997    Gatwick to St Lucia return. Recently returne...\n",
       "998    It's been many years since I flew long haul ...\n",
       "999   \\r\\nLondon Heathrow / Pisa return. My wife an...\n",
       "\n",
       "[1000 rows x 1 columns]"
      ]
     },
     "execution_count": 11,
     "metadata": {},
     "output_type": "execute_result"
    }
   ],
   "source": [
    "df"
   ]
  },
  {
   "cell_type": "markdown",
   "metadata": {},
   "source": [
    "Without using ML"
   ]
  },
  {
   "cell_type": "markdown",
   "metadata": {},
   "source": [
    "Step 1: Cleaning of the text"
   ]
  },
  {
   "cell_type": "code",
   "execution_count": 13,
   "metadata": {},
   "outputs": [
    {
     "data": {
      "text/html": [
       "<div>\n",
       "<style scoped>\n",
       "    .dataframe tbody tr th:only-of-type {\n",
       "        vertical-align: middle;\n",
       "    }\n",
       "\n",
       "    .dataframe tbody tr th {\n",
       "        vertical-align: top;\n",
       "    }\n",
       "\n",
       "    .dataframe thead th {\n",
       "        text-align: right;\n",
       "    }\n",
       "</style>\n",
       "<table border=\"1\" class=\"dataframe\">\n",
       "  <thead>\n",
       "    <tr style=\"text-align: right;\">\n",
       "      <th></th>\n",
       "      <th>reviews</th>\n",
       "      <th>clean_reviews</th>\n",
       "    </tr>\n",
       "  </thead>\n",
       "  <tbody>\n",
       "    <tr>\n",
       "      <th>0</th>\n",
       "      <td>Communication and customer service non existe...</td>\n",
       "      <td>Communication and customer service non existe...</td>\n",
       "    </tr>\n",
       "    <tr>\n",
       "      <th>1</th>\n",
       "      <td>That was supposed to be my flight but it was...</td>\n",
       "      <td>That was supposed to be my flight but it was ...</td>\n",
       "    </tr>\n",
       "    <tr>\n",
       "      <th>2</th>\n",
       "      <td>Have no fear when your BA flight is operated...</td>\n",
       "      <td>Have no fear when your BA flight is operated ...</td>\n",
       "    </tr>\n",
       "    <tr>\n",
       "      <th>3</th>\n",
       "      <td>We have flown BA five times from western USA...</td>\n",
       "      <td>We have flown BA five times from western USA ...</td>\n",
       "    </tr>\n",
       "    <tr>\n",
       "      <th>4</th>\n",
       "      <td>London Heathrow to Istanbul at the start of ...</td>\n",
       "      <td>London Heathrow to Istanbul at the start of t...</td>\n",
       "    </tr>\n",
       "  </tbody>\n",
       "</table>\n",
       "</div>"
      ],
      "text/plain": [
       "                                             reviews  \\\n",
       "0   Communication and customer service non existe...   \n",
       "1    That was supposed to be my flight but it was...   \n",
       "2    Have no fear when your BA flight is operated...   \n",
       "3    We have flown BA five times from western USA...   \n",
       "4    London Heathrow to Istanbul at the start of ...   \n",
       "\n",
       "                                       clean_reviews  \n",
       "0   Communication and customer service non existe...  \n",
       "1   That was supposed to be my flight but it was ...  \n",
       "2   Have no fear when your BA flight is operated ...  \n",
       "3   We have flown BA five times from western USA ...  \n",
       "4   London Heathrow to Istanbul at the start of t...  "
      ]
     },
     "execution_count": 13,
     "metadata": {},
     "output_type": "execute_result"
    }
   ],
   "source": [
    "import re\n",
    "\n",
    "def clean(text):\n",
    "    text = re.sub('[^A-Za-z]+', ' ', str(text))\n",
    "    return text\n",
    "\n",
    "df['clean_reviews'] = df['reviews'].apply(clean)\n",
    "df.head()"
   ]
  },
  {
   "cell_type": "markdown",
   "metadata": {},
   "source": [
    "Step 2: Tokenization"
   ]
  },
  {
   "cell_type": "code",
   "execution_count": 14,
   "metadata": {},
   "outputs": [
    {
     "name": "stderr",
     "output_type": "stream",
     "text": [
      "[nltk_data] Downloading package punkt to\n",
      "[nltk_data]     C:\\Users\\muggs\\AppData\\Roaming\\nltk_data...\n",
      "[nltk_data]   Unzipping tokenizers\\punkt.zip.\n",
      "[nltk_data] Downloading package stopwords to\n",
      "[nltk_data]     C:\\Users\\muggs\\AppData\\Roaming\\nltk_data...\n",
      "[nltk_data]   Unzipping corpora\\stopwords.zip.\n",
      "[nltk_data] Downloading package wordnet to\n",
      "[nltk_data]     C:\\Users\\muggs\\AppData\\Roaming\\nltk_data...\n"
     ]
    }
   ],
   "source": [
    "import nltk\n",
    "\n",
    "\"\"\"This punkt tokenizer divides a text into a list of sentences by using an unsupervised algorithm to build a model for abbreviation words, \n",
    "collocations, and words that start sentences. \"\"\"\n",
    "\n",
    "nltk.download('punkt')\n",
    "from nltk.tokenize import word_tokenize\n",
    "from nltk import pos_tag\n",
    "nltk.download('stopwords')\n",
    "from nltk.corpus import stopwords\n",
    "nltk.download('wordnet')\n",
    "from nltk.corpus import wordnet"
   ]
  },
  {
   "cell_type": "code",
   "execution_count": 16,
   "metadata": {},
   "outputs": [
    {
     "name": "stderr",
     "output_type": "stream",
     "text": [
      "[nltk_data] Downloading package omw-1.4 to\n",
      "[nltk_data]     C:\\Users\\muggs\\AppData\\Roaming\\nltk_data...\n",
      "[nltk_data]   Package omw-1.4 is already up-to-date!\n",
      "[nltk_data] Downloading package averaged_perceptron_tagger to\n",
      "[nltk_data]     C:\\Users\\muggs\\AppData\\Roaming\\nltk_data...\n",
      "[nltk_data]   Package averaged_perceptron_tagger is already up-to-\n",
      "[nltk_data]       date!\n"
     ]
    },
    {
     "data": {
      "text/html": [
       "<div>\n",
       "<style scoped>\n",
       "    .dataframe tbody tr th:only-of-type {\n",
       "        vertical-align: middle;\n",
       "    }\n",
       "\n",
       "    .dataframe tbody tr th {\n",
       "        vertical-align: top;\n",
       "    }\n",
       "\n",
       "    .dataframe thead th {\n",
       "        text-align: right;\n",
       "    }\n",
       "</style>\n",
       "<table border=\"1\" class=\"dataframe\">\n",
       "  <thead>\n",
       "    <tr style=\"text-align: right;\">\n",
       "      <th></th>\n",
       "      <th>reviews</th>\n",
       "      <th>clean_reviews</th>\n",
       "      <th>POS tagged</th>\n",
       "    </tr>\n",
       "  </thead>\n",
       "  <tbody>\n",
       "    <tr>\n",
       "      <th>0</th>\n",
       "      <td>Communication and customer service non existe...</td>\n",
       "      <td>Communication and customer service non existe...</td>\n",
       "      <td>[(Communication, n), (customer, n), (service, ...</td>\n",
       "    </tr>\n",
       "    <tr>\n",
       "      <th>1</th>\n",
       "      <td>That was supposed to be my flight but it was...</td>\n",
       "      <td>That was supposed to be my flight but it was ...</td>\n",
       "      <td>[(supposed, v), (flight, n), (cancelled, v), (...</td>\n",
       "    </tr>\n",
       "    <tr>\n",
       "      <th>2</th>\n",
       "      <td>Have no fear when your BA flight is operated...</td>\n",
       "      <td>Have no fear when your BA flight is operated ...</td>\n",
       "      <td>[(fear, n), (BA, n), (flight, n), (operated, v...</td>\n",
       "    </tr>\n",
       "    <tr>\n",
       "      <th>3</th>\n",
       "      <td>We have flown BA five times from western USA...</td>\n",
       "      <td>We have flown BA five times from western USA ...</td>\n",
       "      <td>[(flown, v), (BA, n), (five, None), (times, n)...</td>\n",
       "    </tr>\n",
       "    <tr>\n",
       "      <th>4</th>\n",
       "      <td>London Heathrow to Istanbul at the start of ...</td>\n",
       "      <td>London Heathrow to Istanbul at the start of t...</td>\n",
       "      <td>[(London, n), (Heathrow, n), (Istanbul, n), (s...</td>\n",
       "    </tr>\n",
       "  </tbody>\n",
       "</table>\n",
       "</div>"
      ],
      "text/plain": [
       "                                             reviews  \\\n",
       "0   Communication and customer service non existe...   \n",
       "1    That was supposed to be my flight but it was...   \n",
       "2    Have no fear when your BA flight is operated...   \n",
       "3    We have flown BA five times from western USA...   \n",
       "4    London Heathrow to Istanbul at the start of ...   \n",
       "\n",
       "                                       clean_reviews  \\\n",
       "0   Communication and customer service non existe...   \n",
       "1   That was supposed to be my flight but it was ...   \n",
       "2   Have no fear when your BA flight is operated ...   \n",
       "3   We have flown BA five times from western USA ...   \n",
       "4   London Heathrow to Istanbul at the start of t...   \n",
       "\n",
       "                                          POS tagged  \n",
       "0  [(Communication, n), (customer, n), (service, ...  \n",
       "1  [(supposed, v), (flight, n), (cancelled, v), (...  \n",
       "2  [(fear, n), (BA, n), (flight, n), (operated, v...  \n",
       "3  [(flown, v), (BA, n), (five, None), (times, n)...  \n",
       "4  [(London, n), (Heathrow, n), (Istanbul, n), (s...  "
      ]
     },
     "execution_count": 16,
     "metadata": {},
     "output_type": "execute_result"
    }
   ],
   "source": [
    "\n",
    "#The nltk.corpus package defines a collection of corpus reader classes, which can be used to access the contents of a diverse set of corpora.\n",
    "\n",
    "\n",
    "nltk.download('omw-1.4')\n",
    "nltk.download('averaged_perceptron_tagger')\n",
    "\n",
    "# POS tagger dictionary\n",
    "pos_dict = {'J':wordnet.ADJ, 'V':wordnet.VERB, 'N':wordnet.NOUN, 'R':wordnet.ADV}\n",
    "def token_stop_pos(text):\n",
    "    tags = pos_tag(word_tokenize(text))\n",
    "    #print(tags)\n",
    "    newlist = []\n",
    "    for word, tag in tags:\n",
    "        if word.lower() not in set(stopwords.words('english')):\n",
    "          newlist.append(tuple([word, pos_dict.get(tag[0])]))\n",
    "          #print(tag[0])\n",
    "          #print(pos_dict.get(tag[0]))\n",
    "    return newlist \n",
    "\n",
    "df['POS tagged'] = df['clean_reviews'].apply(token_stop_pos)\n",
    "df.head()"
   ]
  },
  {
   "cell_type": "markdown",
   "metadata": {},
   "source": [
    "Stem words"
   ]
  },
  {
   "cell_type": "code",
   "execution_count": 17,
   "metadata": {},
   "outputs": [
    {
     "data": {
      "text/html": [
       "<div>\n",
       "<style scoped>\n",
       "    .dataframe tbody tr th:only-of-type {\n",
       "        vertical-align: middle;\n",
       "    }\n",
       "\n",
       "    .dataframe tbody tr th {\n",
       "        vertical-align: top;\n",
       "    }\n",
       "\n",
       "    .dataframe thead th {\n",
       "        text-align: right;\n",
       "    }\n",
       "</style>\n",
       "<table border=\"1\" class=\"dataframe\">\n",
       "  <thead>\n",
       "    <tr style=\"text-align: right;\">\n",
       "      <th></th>\n",
       "      <th>reviews</th>\n",
       "      <th>clean_reviews</th>\n",
       "      <th>POS tagged</th>\n",
       "      <th>Lemma</th>\n",
       "    </tr>\n",
       "  </thead>\n",
       "  <tbody>\n",
       "    <tr>\n",
       "      <th>0</th>\n",
       "      <td>Communication and customer service non existe...</td>\n",
       "      <td>Communication and customer service non existe...</td>\n",
       "      <td>[(Communication, n), (customer, n), (service, ...</td>\n",
       "      <td>Communication customer service non existent ...</td>\n",
       "    </tr>\n",
       "    <tr>\n",
       "      <th>1</th>\n",
       "      <td>That was supposed to be my flight but it was...</td>\n",
       "      <td>That was supposed to be my flight but it was ...</td>\n",
       "      <td>[(supposed, v), (flight, n), (cancelled, v), (...</td>\n",
       "      <td>suppose flight cancel hour takeoff nearly mo...</td>\n",
       "    </tr>\n",
       "    <tr>\n",
       "      <th>2</th>\n",
       "      <td>Have no fear when your BA flight is operated...</td>\n",
       "      <td>Have no fear when your BA flight is operated ...</td>\n",
       "      <td>[(fear, n), (BA, n), (flight, n), (operated, v...</td>\n",
       "      <td>fear BA flight operate Finnair business clas...</td>\n",
       "    </tr>\n",
       "    <tr>\n",
       "      <th>3</th>\n",
       "      <td>We have flown BA five times from western USA...</td>\n",
       "      <td>We have flown BA five times from western USA ...</td>\n",
       "      <td>[(flown, v), (BA, n), (five, None), (times, n)...</td>\n",
       "      <td>fly BA five time western USA England Always ...</td>\n",
       "    </tr>\n",
       "    <tr>\n",
       "      <th>4</th>\n",
       "      <td>London Heathrow to Istanbul at the start of ...</td>\n",
       "      <td>London Heathrow to Istanbul at the start of t...</td>\n",
       "      <td>[(London, n), (Heathrow, n), (Istanbul, n), (s...</td>\n",
       "      <td>London Heathrow Istanbul start half term sch...</td>\n",
       "    </tr>\n",
       "  </tbody>\n",
       "</table>\n",
       "</div>"
      ],
      "text/plain": [
       "                                             reviews  \\\n",
       "0   Communication and customer service non existe...   \n",
       "1    That was supposed to be my flight but it was...   \n",
       "2    Have no fear when your BA flight is operated...   \n",
       "3    We have flown BA five times from western USA...   \n",
       "4    London Heathrow to Istanbul at the start of ...   \n",
       "\n",
       "                                       clean_reviews  \\\n",
       "0   Communication and customer service non existe...   \n",
       "1   That was supposed to be my flight but it was ...   \n",
       "2   Have no fear when your BA flight is operated ...   \n",
       "3   We have flown BA five times from western USA ...   \n",
       "4   London Heathrow to Istanbul at the start of t...   \n",
       "\n",
       "                                          POS tagged  \\\n",
       "0  [(Communication, n), (customer, n), (service, ...   \n",
       "1  [(supposed, v), (flight, n), (cancelled, v), (...   \n",
       "2  [(fear, n), (BA, n), (flight, n), (operated, v...   \n",
       "3  [(flown, v), (BA, n), (five, None), (times, n)...   \n",
       "4  [(London, n), (Heathrow, n), (Istanbul, n), (s...   \n",
       "\n",
       "                                               Lemma  \n",
       "0    Communication customer service non existent ...  \n",
       "1    suppose flight cancel hour takeoff nearly mo...  \n",
       "2    fear BA flight operate Finnair business clas...  \n",
       "3    fly BA five time western USA England Always ...  \n",
       "4    London Heathrow Istanbul start half term sch...  "
      ]
     },
     "execution_count": 17,
     "metadata": {},
     "output_type": "execute_result"
    }
   ],
   "source": [
    "from nltk.stem import WordNetLemmatizer\n",
    "wordnet_lemmatizer = WordNetLemmatizer()\n",
    "\n",
    "def lemmatize(pos_data):\n",
    "    lemma_rew = \" \"\n",
    "    for word, pos in pos_data:\n",
    "        if not pos:\n",
    "            lemma = word\n",
    "            lemma_rew = lemma_rew + \" \" + lemma\n",
    "        else:\n",
    "            lemma = wordnet_lemmatizer.lemmatize(word, pos=pos)\n",
    "            lemma_rew = lemma_rew + \" \" + lemma\n",
    "    return lemma_rew\n",
    "\n",
    "df['Lemma'] = df['POS tagged'].apply(lemmatize)\n",
    "df.head()"
   ]
  },
  {
   "cell_type": "code",
   "execution_count": 18,
   "metadata": {},
   "outputs": [
    {
     "data": {
      "text/html": [
       "<div>\n",
       "<style scoped>\n",
       "    .dataframe tbody tr th:only-of-type {\n",
       "        vertical-align: middle;\n",
       "    }\n",
       "\n",
       "    .dataframe tbody tr th {\n",
       "        vertical-align: top;\n",
       "    }\n",
       "\n",
       "    .dataframe thead th {\n",
       "        text-align: right;\n",
       "    }\n",
       "</style>\n",
       "<table border=\"1\" class=\"dataframe\">\n",
       "  <thead>\n",
       "    <tr style=\"text-align: right;\">\n",
       "      <th></th>\n",
       "      <th>reviews</th>\n",
       "      <th>Lemma</th>\n",
       "    </tr>\n",
       "  </thead>\n",
       "  <tbody>\n",
       "    <tr>\n",
       "      <th>0</th>\n",
       "      <td>Communication and customer service non existe...</td>\n",
       "      <td>Communication customer service non existent ...</td>\n",
       "    </tr>\n",
       "    <tr>\n",
       "      <th>1</th>\n",
       "      <td>That was supposed to be my flight but it was...</td>\n",
       "      <td>suppose flight cancel hour takeoff nearly mo...</td>\n",
       "    </tr>\n",
       "    <tr>\n",
       "      <th>2</th>\n",
       "      <td>Have no fear when your BA flight is operated...</td>\n",
       "      <td>fear BA flight operate Finnair business clas...</td>\n",
       "    </tr>\n",
       "    <tr>\n",
       "      <th>3</th>\n",
       "      <td>We have flown BA five times from western USA...</td>\n",
       "      <td>fly BA five time western USA England Always ...</td>\n",
       "    </tr>\n",
       "    <tr>\n",
       "      <th>4</th>\n",
       "      <td>London Heathrow to Istanbul at the start of ...</td>\n",
       "      <td>London Heathrow Istanbul start half term sch...</td>\n",
       "    </tr>\n",
       "    <tr>\n",
       "      <th>...</th>\n",
       "      <td>...</td>\n",
       "      <td>...</td>\n",
       "    </tr>\n",
       "    <tr>\n",
       "      <th>995</th>\n",
       "      <td>Tampa to Gatwick. I paid to have my seats bu...</td>\n",
       "      <td>Tampa Gatwick pay seat bump business class g...</td>\n",
       "    </tr>\n",
       "    <tr>\n",
       "      <th>996</th>\n",
       "      <td>London Heathrow to Madrid. I travel from LHR ...</td>\n",
       "      <td>London Heathrow Madrid travel LHR regularly ...</td>\n",
       "    </tr>\n",
       "    <tr>\n",
       "      <th>997</th>\n",
       "      <td>Gatwick to St Lucia return. Recently returne...</td>\n",
       "      <td>Gatwick St Lucia return Recently return two ...</td>\n",
       "    </tr>\n",
       "    <tr>\n",
       "      <th>998</th>\n",
       "      <td>It's been many years since I flew long haul ...</td>\n",
       "      <td>many year since fly long haul British Airway...</td>\n",
       "    </tr>\n",
       "    <tr>\n",
       "      <th>999</th>\n",
       "      <td>\\r\\nLondon Heathrow / Pisa return. My wife an...</td>\n",
       "      <td>London Heathrow Pisa return wife fly route t...</td>\n",
       "    </tr>\n",
       "  </tbody>\n",
       "</table>\n",
       "<p>1000 rows × 2 columns</p>\n",
       "</div>"
      ],
      "text/plain": [
       "                                               reviews  \\\n",
       "0     Communication and customer service non existe...   \n",
       "1      That was supposed to be my flight but it was...   \n",
       "2      Have no fear when your BA flight is operated...   \n",
       "3      We have flown BA five times from western USA...   \n",
       "4      London Heathrow to Istanbul at the start of ...   \n",
       "..                                                 ...   \n",
       "995    Tampa to Gatwick. I paid to have my seats bu...   \n",
       "996   London Heathrow to Madrid. I travel from LHR ...   \n",
       "997    Gatwick to St Lucia return. Recently returne...   \n",
       "998    It's been many years since I flew long haul ...   \n",
       "999   \\r\\nLondon Heathrow / Pisa return. My wife an...   \n",
       "\n",
       "                                                 Lemma  \n",
       "0      Communication customer service non existent ...  \n",
       "1      suppose flight cancel hour takeoff nearly mo...  \n",
       "2      fear BA flight operate Finnair business clas...  \n",
       "3      fly BA five time western USA England Always ...  \n",
       "4      London Heathrow Istanbul start half term sch...  \n",
       "..                                                 ...  \n",
       "995    Tampa Gatwick pay seat bump business class g...  \n",
       "996    London Heathrow Madrid travel LHR regularly ...  \n",
       "997    Gatwick St Lucia return Recently return two ...  \n",
       "998    many year since fly long haul British Airway...  \n",
       "999    London Heathrow Pisa return wife fly route t...  \n",
       "\n",
       "[1000 rows x 2 columns]"
      ]
     },
     "execution_count": 18,
     "metadata": {},
     "output_type": "execute_result"
    }
   ],
   "source": [
    "df[['reviews','Lemma']]"
   ]
  },
  {
   "cell_type": "markdown",
   "metadata": {},
   "source": [
    "Sentiment Analysis"
   ]
  },
  {
   "cell_type": "code",
   "execution_count": 19,
   "metadata": {},
   "outputs": [
    {
     "name": "stdout",
     "output_type": "stream",
     "text": [
      "Collecting vaderSentiment\n",
      "  Downloading vaderSentiment-3.3.2-py2.py3-none-any.whl (125 kB)\n",
      "                                              0.0/126.0 kB ? eta -:--:--\n",
      "     -------------------------------------- 126.0/126.0 kB 7.2 MB/s eta 0:00:00\n",
      "Requirement already satisfied: requests in c:\\users\\muggs\\anaconda3\\lib\\site-packages (from vaderSentiment) (2.29.0)\n",
      "Requirement already satisfied: charset-normalizer<4,>=2 in c:\\users\\muggs\\anaconda3\\lib\\site-packages (from requests->vaderSentiment) (2.0.4)\n",
      "Requirement already satisfied: idna<4,>=2.5 in c:\\users\\muggs\\anaconda3\\lib\\site-packages (from requests->vaderSentiment) (3.4)\n",
      "Requirement already satisfied: urllib3<1.27,>=1.21.1 in c:\\users\\muggs\\anaconda3\\lib\\site-packages (from requests->vaderSentiment) (1.26.16)\n",
      "Requirement already satisfied: certifi>=2017.4.17 in c:\\users\\muggs\\anaconda3\\lib\\site-packages (from requests->vaderSentiment) (2023.5.7)\n",
      "Installing collected packages: vaderSentiment\n",
      "Successfully installed vaderSentiment-3.3.2\n"
     ]
    }
   ],
   "source": [
    "!pip install vaderSentiment"
   ]
  },
  {
   "cell_type": "code",
   "execution_count": 21,
   "metadata": {},
   "outputs": [
    {
     "data": {
      "text/html": [
       "<div>\n",
       "<style scoped>\n",
       "    .dataframe tbody tr th:only-of-type {\n",
       "        vertical-align: middle;\n",
       "    }\n",
       "\n",
       "    .dataframe tbody tr th {\n",
       "        vertical-align: top;\n",
       "    }\n",
       "\n",
       "    .dataframe thead th {\n",
       "        text-align: right;\n",
       "    }\n",
       "</style>\n",
       "<table border=\"1\" class=\"dataframe\">\n",
       "  <thead>\n",
       "    <tr style=\"text-align: right;\">\n",
       "      <th></th>\n",
       "      <th>reviews</th>\n",
       "      <th>clean_reviews</th>\n",
       "      <th>POS tagged</th>\n",
       "      <th>Lemma</th>\n",
       "      <th>Sentiment</th>\n",
       "      <th>Analysis</th>\n",
       "    </tr>\n",
       "  </thead>\n",
       "  <tbody>\n",
       "    <tr>\n",
       "      <th>0</th>\n",
       "      <td>Communication and customer service non existe...</td>\n",
       "      <td>Communication and customer service non existe...</td>\n",
       "      <td>[(Communication, n), (customer, n), (service, ...</td>\n",
       "      <td>Communication customer service non existent ...</td>\n",
       "      <td>-0.9112</td>\n",
       "      <td>Negative</td>\n",
       "    </tr>\n",
       "    <tr>\n",
       "      <th>1</th>\n",
       "      <td>That was supposed to be my flight but it was...</td>\n",
       "      <td>That was supposed to be my flight but it was ...</td>\n",
       "      <td>[(supposed, v), (flight, n), (cancelled, v), (...</td>\n",
       "      <td>suppose flight cancel hour takeoff nearly mo...</td>\n",
       "      <td>-0.7003</td>\n",
       "      <td>Negative</td>\n",
       "    </tr>\n",
       "    <tr>\n",
       "      <th>2</th>\n",
       "      <td>Have no fear when your BA flight is operated...</td>\n",
       "      <td>Have no fear when your BA flight is operated ...</td>\n",
       "      <td>[(fear, n), (BA, n), (flight, n), (operated, v...</td>\n",
       "      <td>fear BA flight operate Finnair business clas...</td>\n",
       "      <td>0.6124</td>\n",
       "      <td>Positive</td>\n",
       "    </tr>\n",
       "    <tr>\n",
       "      <th>3</th>\n",
       "      <td>We have flown BA five times from western USA...</td>\n",
       "      <td>We have flown BA five times from western USA ...</td>\n",
       "      <td>[(flown, v), (BA, n), (five, None), (times, n)...</td>\n",
       "      <td>fly BA five time western USA England Always ...</td>\n",
       "      <td>-0.1491</td>\n",
       "      <td>Negative</td>\n",
       "    </tr>\n",
       "    <tr>\n",
       "      <th>4</th>\n",
       "      <td>London Heathrow to Istanbul at the start of ...</td>\n",
       "      <td>London Heathrow to Istanbul at the start of t...</td>\n",
       "      <td>[(London, n), (Heathrow, n), (Istanbul, n), (s...</td>\n",
       "      <td>London Heathrow Istanbul start half term sch...</td>\n",
       "      <td>0.7620</td>\n",
       "      <td>Positive</td>\n",
       "    </tr>\n",
       "  </tbody>\n",
       "</table>\n",
       "</div>"
      ],
      "text/plain": [
       "                                             reviews  \\\n",
       "0   Communication and customer service non existe...   \n",
       "1    That was supposed to be my flight but it was...   \n",
       "2    Have no fear when your BA flight is operated...   \n",
       "3    We have flown BA five times from western USA...   \n",
       "4    London Heathrow to Istanbul at the start of ...   \n",
       "\n",
       "                                       clean_reviews  \\\n",
       "0   Communication and customer service non existe...   \n",
       "1   That was supposed to be my flight but it was ...   \n",
       "2   Have no fear when your BA flight is operated ...   \n",
       "3   We have flown BA five times from western USA ...   \n",
       "4   London Heathrow to Istanbul at the start of t...   \n",
       "\n",
       "                                          POS tagged  \\\n",
       "0  [(Communication, n), (customer, n), (service, ...   \n",
       "1  [(supposed, v), (flight, n), (cancelled, v), (...   \n",
       "2  [(fear, n), (BA, n), (flight, n), (operated, v...   \n",
       "3  [(flown, v), (BA, n), (five, None), (times, n)...   \n",
       "4  [(London, n), (Heathrow, n), (Istanbul, n), (s...   \n",
       "\n",
       "                                               Lemma  Sentiment  Analysis  \n",
       "0    Communication customer service non existent ...    -0.9112  Negative  \n",
       "1    suppose flight cancel hour takeoff nearly mo...    -0.7003  Negative  \n",
       "2    fear BA flight operate Finnair business clas...     0.6124  Positive  \n",
       "3    fly BA five time western USA England Always ...    -0.1491  Negative  \n",
       "4    London Heathrow Istanbul start half term sch...     0.7620  Positive  "
      ]
     },
     "execution_count": 21,
     "metadata": {},
     "output_type": "execute_result"
    }
   ],
   "source": [
    "from vaderSentiment.vaderSentiment import SentimentIntensityAnalyzer\n",
    "analyzer = SentimentIntensityAnalyzer()\n",
    "\n",
    "def sentiment_analyzer_scores(sentence):\n",
    "    score = analyzer.polarity_scores(sentence)\n",
    "    return score['compound']\n",
    "df['Sentiment'] = df['Lemma'].apply(sentiment_analyzer_scores)\n",
    "\n",
    "def vader_analyse(compound):\n",
    "    if compound >= 0.05:\n",
    "        return 'Positive'\n",
    "    elif (compound > -0.05) and (compound < 0.05):\n",
    "        return 'Neutral'\n",
    "    else:\n",
    "        return 'Negative'\n",
    "    \n",
    "df['Analysis'] = df['Sentiment'].apply(vader_analyse)\n",
    "df.head()"
   ]
  },
  {
   "cell_type": "code",
   "execution_count": 22,
   "metadata": {},
   "outputs": [
    {
     "data": {
      "text/plain": [
       "Positive    582\n",
       "Negative    406\n",
       "Neutral      12\n",
       "Name: Analysis, dtype: int64"
      ]
     },
     "execution_count": 22,
     "metadata": {},
     "output_type": "execute_result"
    }
   ],
   "source": [
    "vader_counts = df['Analysis'].value_counts()\n",
    "vader_counts"
   ]
  },
  {
   "cell_type": "markdown",
   "metadata": {},
   "source": [
    "Visualise"
   ]
  },
  {
   "cell_type": "code",
   "execution_count": 23,
   "metadata": {},
   "outputs": [
    {
     "data": {
      "text/plain": [
       "([<matplotlib.patches.Wedge at 0x20ff563f910>,\n",
       "  <matplotlib.patches.Wedge at 0x20ff17398b0>,\n",
       "  <matplotlib.patches.Wedge at 0x20ff565f520>],\n",
       " [Text(-0.28024785561609833, 1.0637016214251902, 'Positive'),\n",
       "  Text(0.23995764192312266, -1.0735084210581185, 'Negative'),\n",
       "  Text(1.3490407898345809, -0.05088169968161623, 'Neutral')],\n",
       " [Text(-0.15286246669968998, 0.5802008844137401, '58.2%'),\n",
       "  Text(0.13088598650352143, -0.5855500478498827, '40.6%'),\n",
       "  Text(0.8493960528588103, -0.03203662572546207, '1.2%')])"
      ]
     },
     "execution_count": 23,
     "metadata": {},
     "output_type": "execute_result"
    },
    {
     "data": {
      "image/png": "[encoded data removed]",
      "text/plain": [
       "<Figure size 1500x700 with 1 Axes>"
      ]
     },
     "metadata": {},
     "output_type": "display_data"
    }
   ],
   "source": [
    "import matplotlib.pyplot as plt\n",
    "%matplotlib inline\n",
    "plt.figure(figsize=(15,7))\n",
    "\n",
    "plt.subplot(1,3,2)\n",
    "plt.title(\"Reviews Analysis\")\n",
    "plt.pie(vader_counts.values, labels = vader_counts.index, explode = (0, 0, 0.25), autopct='%1.1f%%', shadow=False)"
   ]
  },
  {
   "cell_type": "code",
   "execution_count": 25,
   "metadata": {},
   "outputs": [
    {
     "data": {
      "image/png": "[encoded data removed]",
      "text/plain": [
       "<Figure size 800x600 with 1 Axes>"
      ]
     },
     "metadata": {},
     "output_type": "display_data"
    },
    {
     "data": {
      "image/png": "[encoded data removed]",
      "text/plain": [
       "<Figure size 800x600 with 1 Axes>"
      ]
     },
     "metadata": {},
     "output_type": "display_data"
    },
    {
     "data": {
      "image/png": "[encoded data removed]",
      "text/plain": [
       "<Figure size 800x600 with 1 Axes>"
      ]
     },
     "metadata": {},
     "output_type": "display_data"
    }
   ],
   "source": [
    "\n",
    "# Sample data for demonstration\n",
    "average_rating = 4.2\n",
    "sentiment_distribution = {'Positive': 70, 'Neutral': 20, 'Negative': 10}\n",
    "response_rate = 80  # Percentage\n",
    "# Sample data for demonstration ends\n",
    "# Pie chart for sentiment distribution\n",
    "labels = sentiment_distribution.keys()\n",
    "sizes = sentiment_distribution.values()\n",
    "plt.figure(figsize=(8, 6))\n",
    "plt.pie(sizes, labels=labels, autopct='%1.1f%%', startangle=140)\n",
    "plt.title('Sentiment Distribution of Reviews')\n",
    "plt.axis('equal')\n",
    "plt.show()\n",
    "\n",
    "# Plot average rating\n",
    "plt.figure(figsize=(8, 6))\n",
    "plt.bar(['Average Rating'], [average_rating], color='skyblue')\n",
    "plt.title('Average Rating of Reviews')\n",
    "plt.ylim(0, 5)  # Assuming rating scale from 0 to 5\n",
    "plt.ylabel('Rating')\n",
    "plt.show()\n",
    "\n",
    "# Plot response rate\n",
    "plt.figure(figsize=(8, 6))\n",
    "plt.bar(['Response Rate'], [response_rate], color='lightgreen')\n",
    "plt.title('Response Rate to Reviews')\n",
    "plt.ylabel('Percentage')\n",
    "plt.ylim(0, 100)\n",
    "plt.show()"
   ]
  }
 ],
 "metadata": {
  "kernelspec": {
   "display_name": "Python 3.9.13 ('venv': venv)",
   "language": "python",
   "name": "python3"
  },
  "language_info": {
   "codemirror_mode": {
    "name": "ipython",
    "version": 3
   },
   "file_extension": ".py",
   "mimetype": "text/x-python",
   "name": "python",
   "nbconvert_exporter": "python",
   "pygments_lexer": "ipython3",
   "version": "3.9.13"
  },
  "orig_nbformat": 4,
  "vscode": {
   "interpreter": {
    "hash": "4f7924c4c56b083e0e50eadfe7ef592a7a8ef70df33a0047f82280e6be1afe15"
   }
  }
 },
 "nbformat": 4,
 "nbformat_minor": 2
}
